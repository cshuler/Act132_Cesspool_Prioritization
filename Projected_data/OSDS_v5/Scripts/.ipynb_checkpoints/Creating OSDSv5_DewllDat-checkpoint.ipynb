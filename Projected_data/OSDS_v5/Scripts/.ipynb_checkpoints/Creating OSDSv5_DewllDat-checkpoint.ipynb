{
 "cells": [
  {
   "cell_type": "code",
   "execution_count": 12,
   "metadata": {},
   "outputs": [],
   "source": [
    "import os\n",
    "import pandas as pd\n",
    "import numpy as np\n",
    "\n",
    "import arcpy\n",
    "arcpy.env.overwriteOutput = True \n",
    "from arcpy.sa import *\n",
    "from arcpy import env"
   ]
  },
  {
   "cell_type": "code",
   "execution_count": 13,
   "metadata": {},
   "outputs": [
    {
     "name": "stderr",
     "output_type": "stream",
     "text": [
      "C:\\Program Files\\ArcGIS\\Pro\\bin\\Python\\envs\\arcgispro-py3\\lib\\site-packages\\IPython\\core\\interactiveshell.py:3072: DtypeWarning: Columns (5,6) have mixed types. Specify dtype option on import or set low_memory=False.\n",
      "  interactivity=interactivity, compiler=compiler, result=result)\n"
     ]
    }
   ],
   "source": [
    "#Import Clean Statewide Dwelling_data\n",
    "Statewide_NoBath_DwelDat = pd.read_csv(os.path.join(\"..\",\"..\",\"..\",\"..\", \"Dwell_Dat_anaysis/clean_data\", \"Statewide_NoBath_DwelDat.csv\"), index_col=0)\n",
    "\n",
    "# Cast to integer format \n",
    "Statewide_NoBath_DwelDat['TMK'] = Statewide_NoBath_DwelDat.TMK.astype(int)"
   ]
  },
  {
   "cell_type": "code",
   "execution_count": 14,
   "metadata": {},
   "outputs": [],
   "source": [
    "# Import OSDS V4\n",
    "osds_path = os.path.join(\"..\", \"..\", \"OSDS_v4\", \"OSDS_v4_IWS.shp\")\n",
    "columns_nams = [field.name for field in arcpy.ListFields(osds_path)]     # List of all col names\n",
    "columns_nams.pop(1)  # remove stupid shape col                           # THe \"Shape\" col will make numpy array to pandas puke\n",
    "temparr = arcpy.da.FeatureClassToNumPyArray(osds_path, columns_nams)     # convert to numpy recarray\n",
    "OSDS_v4 = pd.DataFrame(temparr)                                       # Convert to pandas bliss\n",
    "\n",
    "# Cast to integer format \n",
    "OSDS_v4['TMK'] = OSDS_v4.TMK.astype(int)\n",
    "# Create a calculated OSDS Qty column jus tto see what is going on\n",
    "OSDS_v4['OSDS_QTY_calc'] = OSDS_v4['CLASS_I']+OSDS_v4['CLASS_II']+OSDS_v4['CLASS_III']+OSDS_v4['CLASS_IV']"
   ]
  },
  {
   "cell_type": "code",
   "execution_count": 15,
   "metadata": {},
   "outputs": [
    {
     "name": "stderr",
     "output_type": "stream",
     "text": [
      "C:\\Program Files\\ArcGIS\\Pro\\bin\\Python\\envs\\arcgispro-py3\\lib\\site-packages\\pandas\\core\\indexing.py:543: SettingWithCopyWarning: \n",
      "A value is trying to be set on a copy of a slice from a DataFrame.\n",
      "Try using .loc[row_indexer,col_indexer] = value instead\n",
      "\n",
      "See the caveats in the documentation: http://pandas.pydata.org/pandas-docs/stable/indexing.html#indexing-view-versus-copy\n",
      "  self.obj[item] = s\n",
      "C:\\Program Files\\ArcGIS\\Pro\\bin\\Python\\envs\\arcgispro-py3\\lib\\site-packages\\ipykernel_launcher.py:10: SettingWithCopyWarning: \n",
      "A value is trying to be set on a copy of a slice from a DataFrame.\n",
      "Try using .loc[row_indexer,col_indexer] = value instead\n",
      "\n",
      "See the caveats in the documentation: http://pandas.pydata.org/pandas-docs/stable/indexing.html#indexing-view-versus-copy\n",
      "  # Remove the CWD from sys.path while we load stuff.\n"
     ]
    }
   ],
   "source": [
    "# Create the csv vor OSDS v5\n",
    "OSDS_v5 = OSDS_v4[OSDS_v4['TMK'].isin(Statewide_NoBath_DwelDat['TMK'])]\n",
    "\n",
    "# Solve some issues\n",
    "\n",
    "# Some of the rows (only 220 all on Oahu) have 0s for their class numbers, but have OSDS_Qty values. \n",
    "# This will assign the OSDS_Qty value to the class 4 column (worst case assumption)\n",
    "OSDS_v5.loc[OSDS_v5['OSDS_QTY_calc'] == 0, 'CLASS_IV'] = OSDS_v5['OSDS_QTY']  # Will trigger SettingWithCopyWarning\n",
    "#recalculate the OSDS Quantity_calc Column\n",
    "OSDS_v5['OSDS_QTY_calc'] = OSDS_v5['CLASS_I']+OSDS_v5['CLASS_II']+OSDS_v5['CLASS_III']+OSDS_v5['CLASS_IV']\n",
    "\n",
    "# There were about 725 rows where there were less added up units from the class colums than in the OSDS_Qty field. This will set the calculated field for these to the OSDS_Qty number\n",
    "OSDS_v5.loc[OSDS_v5['OSDS_QTY'] > OSDS_v5['OSDS_QTY_calc'], 'OSDS_QTY_calc'] = OSDS_v5['OSDS_QTY']  # Will trigger SettingWithCopyWarning\n",
    "\n",
    "# Save to csv\n",
    "OSDS_v5.to_csv(os.path.join(\"..\", \"OSDS_v5.csv\"))\n"
   ]
  },
  {
   "cell_type": "code",
   "execution_count": 20,
   "metadata": {},
   "outputs": [
    {
     "data": {
      "text/plain": [
       "<Result '.'>"
      ]
     },
     "execution_count": 20,
     "metadata": {},
     "output_type": "execute_result"
    }
   ],
   "source": [
    "XFieldName = 'X'                                 # THe x field longitude \n",
    "YFieldName = 'Y'                                 # THe y field latitude \n",
    "spatialRef = arcpy.SpatialReference(4326)        # THis is wgs84\n",
    "csvFilePath = os.path.join(\"..\", \"OSDS_v5.csv\")    # Path to input csv with lat and lon as columns X and Y\n",
    "shpFilePath = os.path.join(\"..\")\n",
    "\n",
    "arcpy.MakeXYEventLayer_management(csvFilePath, XFieldName, YFieldName, 'OSDSv5_DwellDat', spatial_reference=spatialRef)\n",
    "arcpy.FeatureClassToShapefile_conversion('OSDSv5_DwellDat', shpFilePath)    # Shapefile name will be \"OSDS_Count_fliker_cells.shp\""
   ]
  },
  {
   "cell_type": "code",
   "execution_count": null,
   "metadata": {},
   "outputs": [],
   "source": []
  },
  {
   "cell_type": "code",
   "execution_count": null,
   "metadata": {},
   "outputs": [],
   "source": []
  }
 ],
 "metadata": {
  "kernelspec": {
   "display_name": "Python 3",
   "language": "python",
   "name": "python3"
  },
  "language_info": {
   "codemirror_mode": {
    "name": "ipython",
    "version": 3
   },
   "file_extension": ".py",
   "mimetype": "text/x-python",
   "name": "python",
   "nbconvert_exporter": "python",
   "pygments_lexer": "ipython3",
   "version": "3.6.2"
  }
 },
 "nbformat": 4,
 "nbformat_minor": 4
}
